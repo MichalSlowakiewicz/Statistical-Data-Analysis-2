{
  "nbformat": 4,
  "nbformat_minor": 0,
  "metadata": {
    "colab": {
      "provenance": [],
      "authorship_tag": "ABX9TyMSjPr2FrQpC83VqXneq3QH",
      "include_colab_link": true
    },
    "kernelspec": {
      "name": "python3",
      "display_name": "Python 3"
    },
    "language_info": {
      "name": "python"
    }
  },
  "cells": [
    {
      "cell_type": "markdown",
      "metadata": {
        "id": "view-in-github",
        "colab_type": "text"
      },
      "source": [
        "<a href=\"https://colab.research.google.com/github/MichalSlowakiewicz/Statistical-Data-Analysis-2/blob/master/LAB_4.ipynb\" target=\"_parent\"><img src=\"https://colab.research.google.com/assets/colab-badge.svg\" alt=\"Open In Colab\"/></a>"
      ]
    },
    {
      "cell_type": "code",
      "execution_count": 1,
      "metadata": {
        "colab": {
          "base_uri": "https://localhost:8080/"
        },
        "id": "wt8iFMVLWQUj",
        "outputId": "e8949f63-e3cc-4923-c429-6748ebdb7664"
      },
      "outputs": [
        {
          "output_type": "stream",
          "name": "stdout",
          "text": [
            "Collecting boolean.py\n",
            "  Downloading boolean_py-5.0-py3-none-any.whl.metadata (2.3 kB)\n",
            "Downloading boolean_py-5.0-py3-none-any.whl (26 kB)\n",
            "Installing collected packages: boolean.py\n",
            "Successfully installed boolean.py-5.0\n"
          ]
        }
      ],
      "source": [
        "pip install boolean.py\n"
      ]
    },
    {
      "cell_type": "code",
      "source": [
        "pip install networkx"
      ],
      "metadata": {
        "colab": {
          "base_uri": "https://localhost:8080/"
        },
        "id": "vu3fFvPxWSJg",
        "outputId": "32ed4bef-528f-4d7d-adcd-d553c2edf8d3"
      },
      "execution_count": 2,
      "outputs": [
        {
          "output_type": "stream",
          "name": "stdout",
          "text": [
            "Requirement already satisfied: networkx in /usr/local/lib/python3.12/dist-packages (3.5)\n"
          ]
        }
      ]
    },
    {
      "cell_type": "code",
      "source": [
        "import boolean\n"
      ],
      "metadata": {
        "id": "PRVwxBEPXUOK"
      },
      "execution_count": null,
      "outputs": []
    },
    {
      "cell_type": "code",
      "source": [
        "variables, functions =  ['x1', 'x2', 'x3'], ['x1 | ~x2', 'x3', 'x2 & ~x1']\n"
      ],
      "metadata": {
        "id": "aKknbvW3Wg9g"
      },
      "execution_count": 4,
      "outputs": []
    },
    {
      "cell_type": "code",
      "source": [
        "import networkx as nx\n",
        "import boolean as bool\n",
        "import matplotlib.pyplot as plt\n",
        "import matplotlib.colors as mcolors\n",
        "import random\n",
        "\n",
        "\n",
        "class BN():\n",
        "\n",
        "    __bool_algebra = bool.BooleanAlgebra()\n",
        "\n",
        "\n",
        "    \"\"\"\n",
        "    Helper method for converting a non-negative integer into a state in the form of a tuple of 0s and 1s.\n",
        "\n",
        "        Args:\n",
        "            x (int): A state number\n",
        "\n",
        "        Returns:\n",
        "            tuple[int, ...]: A tuple of 0s and 1s representing the Boolean network state.\n",
        "    \"\"\"\n",
        "    def __int_to_state(self, x: int) -> tuple[int, ...]:\n",
        "\n",
        "        binary_str = format(x,'0'+str(self.num_nodes)+'b')\n",
        "        state = [int(char) for char in binary_str]\n",
        "\n",
        "        return tuple(state)\n",
        "\n",
        "\n",
        "    \"\"\"\n",
        "    Converts a Boolean network state from a tuple of 0s and 1s into a binary string.\n",
        "\n",
        "        Args:\n",
        "            state (tuple[int, ...]): A tuple of 0s and 1s representing the Boolean network state\n",
        "\n",
        "        Returns:\n",
        "            str: A binary string representing the Boolean network state\n",
        "    \"\"\"\n",
        "    @staticmethod\n",
        "    def __state_to_binary_str(state: tuple[int, ...]) -> str:\n",
        "        bin_str = ''\n",
        "        for bit in state:\n",
        "            bin_str += str(bit)\n",
        "\n",
        "        return bin_str\n",
        "\n",
        "\n",
        "    \"\"\"\n",
        "    Class constructor\n",
        "\n",
        "        Args:\n",
        "            list_of_nodes (list[str]): A list of node names\n",
        "\n",
        "            list_of_functions (list[str]): A list of strings representing the Boolean functions for the corresponding nodes\n",
        "                in the list_of_nodes, e.g. '(x0 & ~x1) | x2', where 'x0', 'x1', and 'x2' are node names.\n",
        "\n",
        "    \"\"\"\n",
        "    def __init__(self, list_of_nodes: list[str], list_of_functions: list[str]):\n",
        "\n",
        "        self.num_nodes = len(list_of_nodes)\n",
        "\n",
        "        self.node_names = list_of_nodes\n",
        "\n",
        "        self.list_of_nodes = []\n",
        "        for node_name in list_of_nodes:\n",
        "            node = self.__bool_algebra.Symbol(node_name)\n",
        "            self.list_of_nodes.append(node)\n",
        "\n",
        "        self.functions = []\n",
        "        for fun in list_of_functions:\n",
        "            self.functions.append(self.__bool_algebra.parse(fun,simplify=True))\n",
        "\n",
        "\n",
        "    \"\"\"\n",
        "    Computes the states reachable from the given state in one step of asynchronous update.\n",
        "\n",
        "        Args:\n",
        "            state (tuple[int, ...]): A tuple of 0s and 1s representing the Boolean network state.\n",
        "\n",
        "        Returns:\n",
        "            set[tuple[int, ...]]: A set of tuples of 0s and 1s representing the Boolean network states reachable\n",
        "                in one step from the given state.\n",
        "    \"\"\"\n",
        "    def get_neighbor_states(self, state: tuple[int, ...]) -> set[tuple[int, ...]]:\n",
        "\n",
        "        ################################################################################\n",
        "        # Please implement your solution here\n",
        "\n",
        "        neighbor_states = set()\n",
        "        for i in range(self.num_nodes):\n",
        "            # Calculate the next state of the i-th node\n",
        "            symbol_map = {self.list_of_nodes[j]: state[j] for j in range(self.num_nodes)}\n",
        "            next_node_state = self.functions[i].subs(symbol_map)\n",
        "\n",
        "            # Create the next state by flipping the i-th node if its state changes\n",
        "            next_state = list(state)\n",
        "            if next_node_state != state[i]:\n",
        "                next_state[i] = next_node_state\n",
        "                neighbor_states.add(tuple(next_state))\n",
        "\n",
        "        return neighbor_states\n",
        "        ################################################################################\n",
        "\n",
        "\n",
        "    \"\"\"\n",
        "    Generates the asynchronous state transition system of the Boolean network.\n",
        "\n",
        "        Returns:\n",
        "            nx.DiGraph: NetworkX DiGraph object representing the asynchronous state transition system.\n",
        "\n",
        "    \"\"\"\n",
        "    def generate_state_transition_system(self) -> nx.DiGraph:\n",
        "\n",
        "        G = nx.DiGraph()\n",
        "\n",
        "        ################################################################################\n",
        "        # Please implement your solution here\n",
        "        num_states = 2**self.num_nodes\n",
        "        for i in range(num_states):\n",
        "            state = self.__int_to_state(i)\n",
        "            G.add_node(state)\n",
        "            neighbor_states = self.get_neighbor_states(state)\n",
        "            for neighbor_state in neighbor_states:\n",
        "                G.add_edge(state, neighbor_state)\n",
        "        ################################################################################\n",
        "\n",
        "        return G\n",
        "\n",
        "\n",
        "    \"\"\"\n",
        "    Computes the asynchronous attractors of the Boolean network.\n",
        "\n",
        "        Returns:\n",
        "            list[set[tuple[int]]]: A list of asynchronous attractors. Each attractor is a set of states.\n",
        "    \"\"\"\n",
        "    def get_attractors(self) -> list[set[tuple[int]]]:\n",
        "        sts = self.generate_state_transition_system()\n",
        "\n",
        "        attractors = []\n",
        "        for attractor in nx.attracting_components(sts):\n",
        "            attractors.append(attractor)\n",
        "\n",
        "        return attractors\n",
        "\n",
        "\n",
        "    \"\"\"\n",
        "    Draws the state transition system.\n",
        "\n",
        "        Args:\n",
        "            highlight_attractors: If True, states belonging to different attractors are drawn\n",
        "                using distinct colors.\n",
        "\n",
        "        Returns:\n",
        "            None\n",
        "    \"\"\"\n",
        "    def draw_state_transition_system(self, highlight_attractors: bool = True) -> None:\n",
        "\n",
        "        # The color used for non-attractor states in the state transition system\n",
        "        NON_ATTRACTOR_STATE_COLOR = 'grey'\n",
        "\n",
        "        sts = self.generate_state_transition_system()\n",
        "\n",
        "        if highlight_attractors:\n",
        "            attractors = self.get_attractors()\n",
        "\n",
        "            sts_nodes = list(sts.nodes)\n",
        "\n",
        "            node_colors = [NON_ATTRACTOR_STATE_COLOR for node in sts_nodes]\n",
        "\n",
        "            colors = list(mcolors.CSS4_COLORS)\n",
        "            colors.remove('white')\n",
        "            colors.remove(NON_ATTRACTOR_STATE_COLOR)\n",
        "\n",
        "            for attractor in attractors:\n",
        "                # Select a random color for coloring the states of the attractor\n",
        "                color = random.choice(colors)\n",
        "                for state in attractor:\n",
        "                    node_colors[sts_nodes.index(state)] = color\n",
        "\n",
        "        # Draw the graph. Different layouts can be used, for a full list see\n",
        "        # https://networkx.org/documentation/stable/reference/drawing.html#module-networkx.drawing.layout\n",
        "        #\n",
        "        # A better drawing can be obtained with the PyGraphviz.AGraph class, but requires the installation of\n",
        "        # PyGraphviz (https://pygraphviz.github.io/)\n",
        "        nx.draw_networkx(sts,\n",
        "                         with_labels=True,\n",
        "                         pos=nx.spring_layout(sts),\n",
        "                         node_color = node_colors,\n",
        "                         font_size=8)\n",
        "\n",
        "        plt.show()\n",
        "\n",
        "\n",
        "bn = BN(['x0','x1','x2'], ['~x1 | x2', 'x0 | ~x2', 'x0 & x2'])\n",
        "bn.draw_state_transition_system()"
      ],
      "metadata": {
        "colab": {
          "base_uri": "https://localhost:8080/",
          "height": 406
        },
        "id": "pFlIHcsnYytK",
        "outputId": "96322712-f48a-4efc-94cf-6709fb38ad92"
      },
      "execution_count": 5,
      "outputs": [
        {
          "output_type": "display_data",
          "data": {
            "text/plain": [
              "<Figure size 640x480 with 1 Axes>"
            ],
            "image/png": "[encoded data removed]"
          },
          "metadata": {}
        }
      ]
    }
  ]
}