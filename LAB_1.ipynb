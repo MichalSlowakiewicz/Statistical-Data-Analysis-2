{
  "nbformat": 4,
  "nbformat_minor": 0,
  "metadata": {
    "colab": {
      "provenance": [],
      "include_colab_link": true
    },
    "kernelspec": {
      "name": "python3",
      "display_name": "Python 3"
    },
    "language_info": {
      "name": "python"
    }
  },
  "cells": [
    {
      "cell_type": "markdown",
      "metadata": {
        "id": "view-in-github",
        "colab_type": "text"
      },
      "source": [
        "<a href=\"https://colab.research.google.com/github/MichalSlowakiewicz/Statistical-Data-Analysis-2/blob/master/Kopia_notatnika_SAD2_Lab1_torch_distributions_student_version.ipynb\" target=\"_parent\"><img src=\"https://colab.research.google.com/assets/colab-badge.svg\" alt=\"Open In Colab\"/></a>"
      ]
    },
    {
      "cell_type": "markdown",
      "source": [
        "# **SAD2 lab 1**\n",
        "\n",
        "*Today's lab is based on the lab scenario by Kazik Oksza-Orzechowski.*\n"
      ],
      "metadata": {
        "id": "yBM3Xg5uRzhW"
      }
    },
    {
      "cell_type": "markdown",
      "source": [
        "# Introduction to PyTorch\n",
        "\n",
        "In today's lab, we will familiarize ourselves with [PyTorch](https://pytorch.org/docs/stable/index.html). At the beginning of the semester we will mainly use PyTorch [Distributions](https://pytorch.org/docs/stable/distributions.html), however being familiar with PyTorch will be important later in the semester for the classes about Variational Autoencoders.\n",
        "\n",
        "First let's follow quick tutorial based on [this source](https://uvadlc-notebooks.readthedocs.io/en/latest/tutorial_notebooks/tutorial2/Introduction_to_PyTorch.html)."
      ],
      "metadata": {
        "id": "_TVpDSvLIMqK"
      }
    },
    {
      "cell_type": "markdown",
      "source": [
        "## Basics\n",
        "\n",
        "We will start with reviewing the basic concepts of PyTorch. As a prerequisite, we recommend to be familiar with the `numpy` package as most machine learning frameworks are based on very similar concepts. If you are not familiar with `numpy` yet, don't worry: [here](https://numpy.org/doc/stable/user/quickstart.html) is a tutorial to go through.\n",
        "\n",
        "Let's start with importing PyTorch. The package is called `torch`, based on its original framework [Torch](http://torch.ch/). As a first step, we can check its version:"
      ],
      "metadata": {
        "id": "KMuvb6HJKLv-"
      }
    },
    {
      "cell_type": "code",
      "source": [
        "import torch\n",
        "\n",
        "print(\"Using torch\", torch.__version__)"
      ],
      "metadata": {
        "id": "3PR9n9HTKqeB",
        "colab": {
          "base_uri": "https://localhost:8080/"
        },
        "outputId": "3f96197a-5b6d-4527-d676-8162cdc57483"
      },
      "execution_count": null,
      "outputs": [
        {
          "output_type": "stream",
          "name": "stdout",
          "text": [
            "Using torch 2.8.0+cu126\n"
          ]
        }
      ]
    },
    {
      "cell_type": "markdown",
      "source": [
        "As in every machine learning framework, PyTorch provides functions that are stochastic like generating random numbers. However, a very good practice is to setup your code to be reproducible with the exact same random numbers. This is why we set a seed below. As everyone knows, 42 is the [best seed](https://medium.com/geekculture/the-story-behind-random-seed-42-in-machine-learning-b838c4ac290a)."
      ],
      "metadata": {
        "id": "Ihd2Z6usuQfp"
      }
    },
    {
      "cell_type": "code",
      "source": [
        "torch.manual_seed(42) # Setting the seed"
      ],
      "metadata": {
        "id": "M_hN_K3nKuqD",
        "colab": {
          "base_uri": "https://localhost:8080/"
        },
        "outputId": "5fafaaf6-c8bb-4cf8-acec-a923f8c9cc4a"
      },
      "execution_count": null,
      "outputs": [
        {
          "output_type": "execute_result",
          "data": {
            "text/plain": [
              "<torch._C.Generator at 0x7a471c834d70>"
            ]
          },
          "metadata": {},
          "execution_count": 2
        }
      ]
    },
    {
      "cell_type": "markdown",
      "source": [
        "For custom operators, you might need to set python seed as well:\n"
      ],
      "metadata": {
        "id": "ntGKERCzS5AE"
      }
    },
    {
      "cell_type": "code",
      "source": [
        "import random\n",
        "random.seed(42)"
      ],
      "metadata": {
        "id": "7oCGYLhnS4JO"
      },
      "execution_count": null,
      "outputs": []
    },
    {
      "cell_type": "markdown",
      "source": [
        "If you or any of the libraries you are using rely on NumPy, you can seed the global NumPy RNG with:"
      ],
      "metadata": {
        "id": "E396v0wrTyMe"
      }
    },
    {
      "cell_type": "code",
      "source": [
        "import numpy as np\n",
        "np.random.seed(42)"
      ],
      "metadata": {
        "id": "B48iPFPQT45R"
      },
      "execution_count": null,
      "outputs": []
    },
    {
      "cell_type": "markdown",
      "source": [
        "## Tensors\n",
        "\n"
      ],
      "metadata": {
        "id": "GAPZpr6YuVm0"
      }
    },
    {
      "cell_type": "markdown",
      "source": [
        "Let’s first start by looking at different ways of creating a tensor. There are many possible options, the simplest one is to call `torch.Tensor` passing the desired shape as input argument:"
      ],
      "metadata": {
        "id": "-V50KSxnGf9a"
      }
    },
    {
      "cell_type": "code",
      "source": [
        "x = torch.Tensor(2, 3, 4)\n",
        "print(x)"
      ],
      "metadata": {
        "id": "n9l4fw-WGfA7",
        "colab": {
          "base_uri": "https://localhost:8080/"
        },
        "outputId": "217aa27c-38b8-4ddc-8069-50e88d5537a0"
      },
      "execution_count": null,
      "outputs": [
        {
          "output_type": "stream",
          "name": "stdout",
          "text": [
            "tensor([[[1.6272e+01, 4.3865e-41, 1.6272e+01, 4.3865e-41],\n",
            "         [2.0930e-07, 0.0000e+00, 2.2230e-20, 4.3865e-41],\n",
            "         [2.0930e-07, 0.0000e+00, 9.1477e-41, 0.0000e+00]],\n",
            "\n",
            "        [[1.3452e-43, 0.0000e+00, 3.5873e-43, 0.0000e+00],\n",
            "         [2.3526e-20, 4.3865e-41, 0.0000e+00, 0.0000e+00],\n",
            "         [0.0000e+00, 0.0000e+00, 0.0000e+00, 0.0000e+00]]])\n"
          ]
        }
      ]
    },
    {
      "cell_type": "markdown",
      "source": [
        "The function `torch.Tensor` allocates memory for the desired tensor, but reuses any values that have already been in the memory. To directly assign values to the tensor during initialization, there are many alternatives including:\n",
        "\n",
        "* `torch.zeros`: Creates a tensor filled with zeros\n",
        "* `torch.ones`: Creates a tensor filled with ones\n",
        "* `torch.rand`: Creates a tensor with random values uniformly sampled between 0 and 1\n",
        "* `torch.randn`: Creates a tensor with random values sampled from a normal distribution with mean 0 and variance 1\n",
        "* `torch.arange`: Creates a tensor containing the values $N,N+1,N+2,...,M$\n",
        "* `torch.Tensor` (input list): Creates a tensor from the list elements you provide"
      ],
      "metadata": {
        "id": "iiZzFPurGoFy"
      }
    },
    {
      "cell_type": "code",
      "source": [
        "# Create a tensor from a (nested) list\n",
        "x = torch.Tensor([[1, 2], [3, 4]])\n",
        "print(x)"
      ],
      "metadata": {
        "id": "1o0D0NxiGvO0",
        "colab": {
          "base_uri": "https://localhost:8080/"
        },
        "outputId": "5f2fd19e-6009-4d93-dab6-cd6fcd537bd8"
      },
      "execution_count": null,
      "outputs": [
        {
          "output_type": "stream",
          "name": "stdout",
          "text": [
            "tensor([[1., 2.],\n",
            "        [3., 4.]])\n"
          ]
        }
      ]
    },
    {
      "cell_type": "code",
      "source": [
        "x = torch.zeros(1, 2, 13)\n",
        "print(x)"
      ],
      "metadata": {
        "colab": {
          "base_uri": "https://localhost:8080/"
        },
        "id": "dbX3y3oPys8G",
        "outputId": "2c877680-7989-4f0b-957d-f54c7d8aec78"
      },
      "execution_count": null,
      "outputs": [
        {
          "output_type": "stream",
          "name": "stdout",
          "text": [
            "tensor([[[0., 0., 0., 0., 0., 0., 0., 0., 0., 0., 0., 0., 0.],\n",
            "         [0., 0., 0., 0., 0., 0., 0., 0., 0., 0., 0., 0., 0.]]])\n"
          ]
        }
      ]
    },
    {
      "cell_type": "code",
      "source": [
        "x = torch.ones(3, 1, 1)\n",
        "print(x)"
      ],
      "metadata": {
        "colab": {
          "base_uri": "https://localhost:8080/"
        },
        "id": "EvifScS1y2ot",
        "outputId": "2fb39215-acb8-4719-8840-2453464feab7"
      },
      "execution_count": null,
      "outputs": [
        {
          "output_type": "stream",
          "name": "stdout",
          "text": [
            "tensor([[[1.]],\n",
            "\n",
            "        [[1.]],\n",
            "\n",
            "        [[1.]]])\n"
          ]
        }
      ]
    },
    {
      "cell_type": "code",
      "source": [
        "x = torch.rand(2, 3, 4)\n",
        "print(x)"
      ],
      "metadata": {
        "colab": {
          "base_uri": "https://localhost:8080/"
        },
        "id": "uPe0QzUHy8YV",
        "outputId": "55c46294-50ea-4ffc-9968-0d83ca0c3f46"
      },
      "execution_count": null,
      "outputs": [
        {
          "output_type": "stream",
          "name": "stdout",
          "text": [
            "tensor([[[0.1053, 0.2695, 0.3588, 0.1994],\n",
            "         [0.5472, 0.0062, 0.9516, 0.0753],\n",
            "         [0.8860, 0.5832, 0.3376, 0.8090]],\n",
            "\n",
            "        [[0.5779, 0.9040, 0.5547, 0.3423],\n",
            "         [0.6343, 0.3644, 0.7104, 0.9464],\n",
            "         [0.7890, 0.2814, 0.7886, 0.5895]]])\n"
          ]
        }
      ]
    },
    {
      "cell_type": "code",
      "source": [
        "x = torch.randn(3, 3, 3)\n",
        "print(x)"
      ],
      "metadata": {
        "colab": {
          "base_uri": "https://localhost:8080/"
        },
        "id": "1fKlnw2WzDTV",
        "outputId": "b7447b6d-006d-4009-ad5c-4d1348b16df2"
      },
      "execution_count": null,
      "outputs": [
        {
          "output_type": "stream",
          "name": "stdout",
          "text": [
            "tensor([[[-0.9138, -0.6581,  0.0780],\n",
            "         [ 0.5258, -0.4880,  1.1914],\n",
            "         [-0.8140, -0.7360, -1.4032]],\n",
            "\n",
            "        [[ 0.0360, -0.0635, -0.1423],\n",
            "         [ 0.1971, -1.1441,  0.3383],\n",
            "         [ 1.6992,  0.0109, -0.3387]],\n",
            "\n",
            "        [[-1.3407,  0.4584, -0.5644],\n",
            "         [ 1.0563, -1.4692,  1.4332],\n",
            "         [ 0.7440, -0.4816, -1.0495]]])\n"
          ]
        }
      ]
    },
    {
      "cell_type": "code",
      "source": [
        "x = torch.arange(1, 4)\n",
        "print(x)"
      ],
      "metadata": {
        "colab": {
          "base_uri": "https://localhost:8080/"
        },
        "id": "POplmHRwzs6l",
        "outputId": "a0f23cd3-911e-427f-89c3-d915b4fd288d"
      },
      "execution_count": null,
      "outputs": [
        {
          "output_type": "stream",
          "name": "stdout",
          "text": [
            "tensor([1, 2, 3])\n"
          ]
        }
      ]
    },
    {
      "cell_type": "code",
      "source": [
        "# Create a tensor with random values between 0 and 1 with the shape [2, 3, 4]\n",
        "x = torch.rand(2, 3, 4)\n",
        "print(x)"
      ],
      "metadata": {
        "id": "m_qZnCURHFvf",
        "colab": {
          "base_uri": "https://localhost:8080/"
        },
        "outputId": "10f36033-3fa6-4e80-826c-911cd37711e7"
      },
      "execution_count": null,
      "outputs": [
        {
          "output_type": "stream",
          "name": "stdout",
          "text": [
            "tensor([[[0.8823, 0.9150, 0.3829, 0.9593],\n",
            "         [0.3904, 0.6009, 0.2566, 0.7936],\n",
            "         [0.9408, 0.1332, 0.9346, 0.5936]],\n",
            "\n",
            "        [[0.8694, 0.5677, 0.7411, 0.4294],\n",
            "         [0.8854, 0.5739, 0.2666, 0.6274],\n",
            "         [0.2696, 0.4414, 0.2969, 0.8317]]])\n"
          ]
        }
      ]
    },
    {
      "cell_type": "code",
      "source": [
        "x = torch.Tensor([[[1, 2], [3, 4]],[[1, 2], [3, 4]]])\n",
        "print(x)"
      ],
      "metadata": {
        "colab": {
          "base_uri": "https://localhost:8080/"
        },
        "id": "X_NIzBAFzfz2",
        "outputId": "494e5596-769a-485e-d7f6-d48aadcb1420"
      },
      "execution_count": null,
      "outputs": [
        {
          "output_type": "stream",
          "name": "stdout",
          "text": [
            "tensor([[[1., 2.],\n",
            "         [3., 4.]],\n",
            "\n",
            "        [[1., 2.],\n",
            "         [3., 4.]]])\n"
          ]
        }
      ]
    },
    {
      "cell_type": "markdown",
      "source": [
        "You can obtain the shape of a tensor in the same way as in `numpy` (`x.shape`), or using the `.size` method:"
      ],
      "metadata": {
        "id": "9hUUgJTjHOje"
      }
    },
    {
      "cell_type": "code",
      "source": [
        "shape = x.shape\n",
        "print(\"Shape:\", x.shape)\n",
        "\n",
        "size = x.size()\n",
        "print(\"Size:\", size)\n",
        "\n",
        "dim1, dim2, dim3 = x.size()\n",
        "print(\"Size:\", dim1, dim2, dim3)"
      ],
      "metadata": {
        "id": "QtI3DlUlHIA5",
        "colab": {
          "base_uri": "https://localhost:8080/"
        },
        "outputId": "195740b6-ca35-4942-f087-1dbeb0690e99"
      },
      "execution_count": null,
      "outputs": [
        {
          "output_type": "stream",
          "name": "stdout",
          "text": [
            "Shape: torch.Size([2, 3, 4])\n",
            "Size: torch.Size([2, 3, 4])\n",
            "Size: 2 3 4\n"
          ]
        }
      ]
    },
    {
      "cell_type": "markdown",
      "source": [
        "## Tensors and NumPy"
      ],
      "metadata": {
        "id": "7sd7b27bHfNo"
      }
    },
    {
      "cell_type": "markdown",
      "source": [
        "Tensors can be converted to numpy arrays, and numpy arrays back to tensors. To transform a numpy array into a tensor, we can use the function `torch.from_numpy`:"
      ],
      "metadata": {
        "id": "BjWm2FleHkMc"
      }
    },
    {
      "cell_type": "code",
      "source": [
        "import numpy as np\n",
        "\n",
        "np_arr = np.array([[1, 2], [3, 4]])\n",
        "tensor = torch.from_numpy(np_arr)\n",
        "\n",
        "print(\"Numpy array:\", np_arr)\n",
        "print(\"PyTorch tensor:\", tensor)"
      ],
      "metadata": {
        "id": "APCj-pLiH3h7",
        "colab": {
          "base_uri": "https://localhost:8080/"
        },
        "outputId": "0fe9a169-3ae7-4905-9bf5-55130ab5d5b8"
      },
      "execution_count": null,
      "outputs": [
        {
          "output_type": "stream",
          "name": "stdout",
          "text": [
            "Numpy array: [[1 2]\n",
            " [3 4]]\n",
            "PyTorch tensor: tensor([[1, 2],\n",
            "        [3, 4]])\n"
          ]
        }
      ]
    },
    {
      "cell_type": "markdown",
      "source": [
        "To transform a PyTorch tensor back to a numpy array, we can use the function `.numpy()` on tensors:"
      ],
      "metadata": {
        "id": "fxz4v7zlIOmM"
      }
    },
    {
      "cell_type": "code",
      "source": [
        "tensor = torch.arange(4)\n",
        "np_arr = tensor.numpy()\n",
        "\n",
        "print(\"PyTorch tensor:\", tensor)\n",
        "print(\"Numpy array:\", np_arr)"
      ],
      "metadata": {
        "id": "Nt2d9SBmHdy-",
        "colab": {
          "base_uri": "https://localhost:8080/"
        },
        "outputId": "98873793-61b8-4ba7-cdf9-faca370648ee"
      },
      "execution_count": null,
      "outputs": [
        {
          "output_type": "stream",
          "name": "stdout",
          "text": [
            "PyTorch tensor: tensor([0, 1, 2, 3])\n",
            "Numpy array: [0 1 2 3]\n"
          ]
        }
      ]
    },
    {
      "cell_type": "markdown",
      "source": [
        "The conversion of tensors to numpy require the tensor to be on the CPU, and not the GPU (more on GPU support in a later section). In case you have a tensor on GPU, you need to call `.cpu()` on the tensor beforehand. Hence, you get a line like `np_arr = tensor.cpu().numpy()`."
      ],
      "metadata": {
        "id": "ImdjYP7pIV8z"
      }
    },
    {
      "cell_type": "markdown",
      "source": [
        "## Operations on tensors"
      ],
      "metadata": {
        "id": "_z43Yu95Iamu"
      }
    },
    {
      "cell_type": "markdown",
      "source": [
        "Most operations that exist in numpy, also exist in PyTorch. A full list of operations can be found in the [PyTorch documentation](https://pytorch.org/docs/stable/tensors.html#), but we will review the most important ones here.\n",
        "\n",
        "The simplest operation is to add two tensors:"
      ],
      "metadata": {
        "id": "-Ru3Ht3kIjy7"
      }
    },
    {
      "cell_type": "code",
      "source": [
        "x1 = torch.rand(2, 3)\n",
        "x2 = torch.rand(2, 3)\n",
        "y = x1 + x2\n",
        "\n",
        "print(\"X1\", x1)\n",
        "print(\"X2\", x2)\n",
        "print(\"Y\", y)"
      ],
      "metadata": {
        "id": "i6JZqy05HuAT",
        "colab": {
          "base_uri": "https://localhost:8080/"
        },
        "outputId": "f5fafb1b-e674-45aa-935e-bec51c6bb544"
      },
      "execution_count": null,
      "outputs": [
        {
          "output_type": "stream",
          "name": "stdout",
          "text": [
            "X1 tensor([[0.1371, 0.5117, 0.1585],\n",
            "        [0.0758, 0.2247, 0.0624]])\n",
            "X2 tensor([[0.1816, 0.9998, 0.5944],\n",
            "        [0.6541, 0.0337, 0.1716]])\n",
            "Y tensor([[0.3187, 1.5115, 0.7529],\n",
            "        [0.7299, 0.2583, 0.2340]])\n"
          ]
        }
      ]
    },
    {
      "cell_type": "markdown",
      "source": [
        "Calling `x1 + x2` creates a new tensor containing the sum of the two inputs. However, we can also use in-place operations that are applied directly on the memory of a tensor. We therefore change the values of `x2` without the chance to re-accessing the values of `x2` before the operation. An example is shown below:"
      ],
      "metadata": {
        "id": "lEtq4jrwIsNr"
      }
    },
    {
      "cell_type": "code",
      "source": [
        "x1 = torch.rand(2, 3)\n",
        "x2 = torch.rand(2, 3)\n",
        "print(\"X1 (before)\", x1)\n",
        "print(\"X2 (before)\", x2)\n",
        "\n",
        "x2.add_(x1)\n",
        "print(\"X1 (after)\", x1)\n",
        "print(\"X2 (after)\", x2)"
      ],
      "metadata": {
        "id": "DJgCkbWOIowm",
        "colab": {
          "base_uri": "https://localhost:8080/"
        },
        "outputId": "d6e85bc4-da5f-4e74-8db0-7eade165afe4"
      },
      "execution_count": null,
      "outputs": [
        {
          "output_type": "stream",
          "name": "stdout",
          "text": [
            "X1 (before) tensor([[0.3336, 0.5782, 0.0600],\n",
            "        [0.2846, 0.2007, 0.5014]])\n",
            "X2 (before) tensor([[0.3139, 0.4654, 0.1612],\n",
            "        [0.1568, 0.2083, 0.3289]])\n",
            "X1 (after) tensor([[0.3336, 0.5782, 0.0600],\n",
            "        [0.2846, 0.2007, 0.5014]])\n",
            "X2 (after) tensor([[0.6475, 1.0435, 0.2212],\n",
            "        [0.4414, 0.4090, 0.8302]])\n"
          ]
        }
      ]
    },
    {
      "cell_type": "markdown",
      "source": [
        "In-place operations are usually marked with a underscore postfix (e.g. `add_` instead of `add`).\n",
        "\n",
        "Another common operation aims at changing the shape of a tensor. A tensor of size $(2,3)$ can be re-organized to any other shape with the same number of elements (e.g. a tensor of size $(6)$, or $(3,2)$, etc.). In PyTorch, this operation is called `view`:"
      ],
      "metadata": {
        "id": "qvMOimucIx-m"
      }
    },
    {
      "cell_type": "code",
      "source": [
        "x = x1.view(2,3)\n",
        "print(\"X\", x)"
      ],
      "metadata": {
        "id": "_0eMHrtTIvSW",
        "colab": {
          "base_uri": "https://localhost:8080/"
        },
        "outputId": "9626edd9-5422-4093-c5d3-abf03943b0e4"
      },
      "execution_count": null,
      "outputs": [
        {
          "output_type": "stream",
          "name": "stdout",
          "text": [
            "X tensor([[0.3336, 0.5782, 0.0600],\n",
            "        [0.2846, 0.2007, 0.5014]])\n"
          ]
        }
      ]
    },
    {
      "cell_type": "markdown",
      "source": [
        "Other commonly used operations include matrix multiplications, which are essential for neural networks. Quite often, we have an input vector $\\mathbf{x}$, which is transformed using a learned weight matrix $\\mathbf{W}$. There are multiple ways and functions to perform matrix multiplication, some of which we list below:\n",
        "\n",
        "* `torch.matmul`: Performs the matrix product over two tensors, where the specific behavior depends on the dimensions. If both inputs are matrices (2-dimensional tensors), it performs the standard matrix product. For higher dimensional inputs, the function supports broadcasting (for details see the [documentation](https://pytorch.org/docs/stable/generated/torch.matmul.html?highlight=matmul#torch.matmul)). Can also be written as `a @ b`, similar to numpy.\n",
        "* `torch.mm`: Performs the matrix product over two matrices, but doesn't support broadcasting (see [documentation](https://pytorch.org/docs/stable/generated/torch.mm.html?highlight=torch%20mm#torch.mm))\n",
        "* `torch.bmm`: Performs the matrix product with a support batch dimension. If the first tensor $T$ is of shape ($b\\times n\\times m$), and the second tensor $R$ ($b\\times m\\times p$), the output $O$ is of shape ($b\\times n\\times p$), and has been calculated by performing $b$ matrix multiplications of the submatrices of $T$ and $R$: $O_i = T_i @ R_i$\n",
        "* `torch.einsum`: Performs matrix multiplications and more (i.e. sums of products) using the Einstein summation convention. Explanation of the Einstein sum can be found in assignment 1.\n",
        "\n",
        "Usually, we use `torch.matmul` or `torch.bmm`. We can try a matrix multiplication with `torch.matmul` below."
      ],
      "metadata": {
        "id": "nttmfnCUJ3sS"
      }
    },
    {
      "cell_type": "code",
      "source": [
        "x1 = torch.rand(5, 2, 3)\n",
        "x2 = torch.rand(5, 3, 2)\n",
        "print(\"X1\", x1)\n",
        "print(\"X2\", x2)\n",
        "\n",
        "y = torch.bmm(x1,x2)\n",
        "\n",
        "print(\"Y\", y)"
      ],
      "metadata": {
        "id": "aGmoq99NJfjw",
        "colab": {
          "base_uri": "https://localhost:8080/"
        },
        "outputId": "df96e5e4-6376-4aed-ee6c-a93e639f2159",
        "collapsed": true
      },
      "execution_count": null,
      "outputs": [
        {
          "output_type": "stream",
          "name": "stdout",
          "text": [
            "X1 tensor([[[0.1054, 0.9192, 0.4008],\n",
            "         [0.9302, 0.6558, 0.0766]],\n",
            "\n",
            "        [[0.8460, 0.3624, 0.3083],\n",
            "         [0.0850, 0.0029, 0.6431]],\n",
            "\n",
            "        [[0.3908, 0.6947, 0.0897],\n",
            "         [0.8712, 0.1330, 0.4137]],\n",
            "\n",
            "        [[0.6044, 0.7581, 0.9037],\n",
            "         [0.9555, 0.1035, 0.6258]],\n",
            "\n",
            "        [[0.2849, 0.4452, 0.1258],\n",
            "         [0.9554, 0.1330, 0.7672]]])\n",
            "X2 tensor([[[0.6757, 0.6625],\n",
            "         [0.2297, 0.9545],\n",
            "         [0.6099, 0.5643]],\n",
            "\n",
            "        [[0.0594, 0.7099],\n",
            "         [0.4250, 0.2709],\n",
            "         [0.9295, 0.6115]],\n",
            "\n",
            "        [[0.2234, 0.2469],\n",
            "         [0.4761, 0.7792],\n",
            "         [0.3722, 0.2147]],\n",
            "\n",
            "        [[0.3288, 0.1265],\n",
            "         [0.6783, 0.8870],\n",
            "         [0.0293, 0.6161]],\n",
            "\n",
            "        [[0.7583, 0.5907],\n",
            "         [0.3219, 0.7610],\n",
            "         [0.7628, 0.6870]]])\n",
            "Y tensor([[[0.5267, 1.1733],\n",
            "         [0.8259, 1.2854]],\n",
            "\n",
            "        [[0.4908, 0.8873],\n",
            "         [0.6040, 0.4543]],\n",
            "\n",
            "        [[0.4514, 0.6570],\n",
            "         [0.4119, 0.4076]],\n",
            "\n",
            "        [[0.7394, 1.3057],\n",
            "         [0.4027, 0.5983]],\n",
            "\n",
            "        [[0.4553, 0.5935],\n",
            "         [1.3525, 1.1926]]])\n"
          ]
        }
      ]
    },
    {
      "cell_type": "code",
      "source": [
        "x1 = torch.rand(5, 1, 3)\n",
        "x2 = torch.rand(5, 3, 10)\n",
        "print(\"X1\", x1)\n",
        "print(\"X2\", x2)\n",
        "\n",
        "y = torch.bmm(x1,x2)\n",
        "\n",
        "print(\"Y\", y)"
      ],
      "metadata": {
        "colab": {
          "base_uri": "https://localhost:8080/"
        },
        "outputId": "3a6e83b1-02ee-43d9-b5d8-38a5792fa6c3",
        "collapsed": true,
        "id": "dYMh6FoH2AS5"
      },
      "execution_count": null,
      "outputs": [
        {
          "output_type": "stream",
          "name": "stdout",
          "text": [
            "X1 tensor([[[0.7401, 0.9208, 0.7619]],\n",
            "\n",
            "        [[0.6265, 0.4951, 0.1197]],\n",
            "\n",
            "        [[0.0716, 0.0323, 0.7047]],\n",
            "\n",
            "        [[0.2545, 0.3994, 0.2122]],\n",
            "\n",
            "        [[0.4089, 0.1481, 0.1733]]])\n",
            "X2 tensor([[[0.6659, 0.3514, 0.8087, 0.3396, 0.1332, 0.4118, 0.2576, 0.3470,\n",
            "          0.0240, 0.7797],\n",
            "         [0.1519, 0.7513, 0.7269, 0.8572, 0.1165, 0.8596, 0.2636, 0.6855,\n",
            "          0.9696, 0.4295],\n",
            "         [0.4961, 0.3849, 0.0825, 0.7400, 0.0036, 0.8104, 0.8741, 0.9729,\n",
            "          0.3821, 0.0892]],\n",
            "\n",
            "        [[0.6124, 0.7762, 0.0023, 0.3865, 0.2003, 0.4563, 0.2539, 0.2956,\n",
            "          0.3413, 0.0248],\n",
            "         [0.9103, 0.9192, 0.4216, 0.4431, 0.2959, 0.0485, 0.0134, 0.6858,\n",
            "          0.2255, 0.1786],\n",
            "         [0.4610, 0.3335, 0.3382, 0.5161, 0.3939, 0.3278, 0.2606, 0.0931,\n",
            "          0.9193, 0.2999]],\n",
            "\n",
            "        [[0.6325, 0.3265, 0.5406, 0.9662, 0.7304, 0.0667, 0.6985, 0.9746,\n",
            "          0.6315, 0.8352],\n",
            "         [0.9929, 0.4234, 0.6038, 0.1525, 0.3970, 0.8703, 0.7563, 0.1836,\n",
            "          0.0991, 0.1583],\n",
            "         [0.0066, 0.1142, 0.3764, 0.8374, 0.5837, 0.1197, 0.0989, 0.7487,\n",
            "          0.1281, 0.4384]],\n",
            "\n",
            "        [[0.7399, 0.2686, 0.4455, 0.4565, 0.3817, 0.2465, 0.0543, 0.0958,\n",
            "          0.2323, 0.9829],\n",
            "         [0.2585, 0.1642, 0.6212, 0.6378, 0.7740, 0.8801, 0.7784, 0.0042,\n",
            "          0.5443, 0.8029],\n",
            "         [0.4538, 0.2054, 0.9767, 0.3130, 0.2153, 0.0492, 0.5223, 0.7216,\n",
            "          0.6107, 0.5989]],\n",
            "\n",
            "        [[0.1208, 0.0331, 0.5088, 0.9559, 0.7885, 0.2089, 0.4351, 0.1314,\n",
            "          0.2588, 0.5905],\n",
            "         [0.7723, 0.9142, 0.0409, 0.8343, 0.1474, 0.6872, 0.9231, 0.5070,\n",
            "          0.9549, 0.0740],\n",
            "         [0.3090, 0.7916, 0.3911, 0.3976, 0.2916, 0.8447, 0.7453, 0.6602,\n",
            "          0.2190, 0.0941]]])\n",
            "Y tensor([[[1.0106, 1.2451, 1.3306, 1.6044, 0.2086, 1.7137, 1.0994, 1.6293,\n",
            "          1.2016, 1.0404]],\n",
            "\n",
            "        [[0.8896, 0.9814, 0.2507, 0.5233, 0.3192, 0.3491, 0.1969, 0.5359,\n",
            "          0.4355, 0.1399]],\n",
            "\n",
            "        [[0.0820, 0.1175, 0.3234, 0.6642, 0.4765, 0.1173, 0.1442, 0.6034,\n",
            "          0.1387, 0.3739]],\n",
            "\n",
            "        [[0.3879, 0.1775, 0.5688, 0.4373, 0.4520, 0.4247, 0.4356, 0.1792,\n",
            "          0.4061, 0.6979]],\n",
            "\n",
            "        [[0.2173, 0.2861, 0.2819, 0.5833, 0.3947, 0.3335, 0.4438, 0.2432,\n",
            "          0.2852, 0.2687]]])\n"
          ]
        }
      ]
    },
    {
      "cell_type": "code",
      "source": [
        "tensor1 = torch.randn(10, 3, 4)\n",
        "tensor2 = torch.randn(4, 5)\n",
        "print('X1', tensor1)\n",
        "print('X2', tensor2)\n",
        "\n",
        "y = torch.matmul(tensor1, tensor2)\n",
        "print('Y', y)"
      ],
      "metadata": {
        "colab": {
          "base_uri": "https://localhost:8080/"
        },
        "id": "CZAyTtjR2vWx",
        "outputId": "2e73ea3a-fa87-4b02-b661-47df74426fc1"
      },
      "execution_count": null,
      "outputs": [
        {
          "output_type": "stream",
          "name": "stdout",
          "text": [
            "X1 tensor([[[ 0.9770, -0.3444, -0.1889,  0.0417],\n",
            "         [-0.3357, -1.2594, -0.2131,  0.3444],\n",
            "         [-0.0357, -0.8881, -0.5891,  0.1307]],\n",
            "\n",
            "        [[ 1.7127,  0.6464,  0.1379,  0.5234],\n",
            "         [ 1.2479,  0.0929, -0.7844,  0.0350],\n",
            "         [ 0.8422, -0.2108,  0.8012,  0.0169]],\n",
            "\n",
            "        [[ 0.0330, -1.2598, -0.7298,  1.2975],\n",
            "         [-0.0965,  1.3945, -1.3005, -0.7347],\n",
            "         [-0.1303,  1.7551,  0.0675, -0.3978]],\n",
            "\n",
            "        [[ 0.7583, -0.5347, -0.1458,  0.9213],\n",
            "         [-0.3893,  0.6138, -0.2786,  0.5885],\n",
            "         [ 0.7091, -0.2645, -2.9836, -0.4146]],\n",
            "\n",
            "        [[ 0.4463, -0.5218,  0.8302, -0.0510],\n",
            "         [ 1.4310,  0.3673, -0.0192, -1.0667],\n",
            "         [-0.4834,  0.5600, -1.0602, -1.4201]],\n",
            "\n",
            "        [[-0.5559,  1.6862,  0.9885,  1.3676],\n",
            "         [ 0.1919,  1.1600, -0.0088,  0.8505],\n",
            "         [-0.8496, -1.4020,  0.1723, -0.2206]],\n",
            "\n",
            "        [[ 1.2056,  1.3690, -0.6950,  1.4324],\n",
            "         [ 0.2276, -1.1287,  1.1242, -0.2815],\n",
            "         [ 0.1488, -0.2378, -0.1014,  0.9077]],\n",
            "\n",
            "        [[-0.3669, -0.0186,  0.0285,  0.8230],\n",
            "         [-0.0398, -0.5003,  0.2930,  0.1839],\n",
            "         [-0.7940,  1.3019, -1.0228, -1.4068]],\n",
            "\n",
            "        [[ 1.3389,  2.0047, -1.5808, -1.3382],\n",
            "         [ 0.4742, -2.2940,  0.7744, -0.5453],\n",
            "         [-1.3144, -1.3162, -1.2524, -1.5844]],\n",
            "\n",
            "        [[-2.5447,  1.3719, -0.5379, -0.1756],\n",
            "         [-0.8505,  0.0361,  1.3407,  0.9200],\n",
            "         [-0.3788, -1.5598, -0.8010,  0.3588]]])\n",
            "X2 tensor([[-0.3867,  0.9578, -0.8225, -2.3908, -0.8681],\n",
            "        [-0.5702,  0.3233, -0.1720, -1.3672,  0.6497],\n",
            "        [-0.3372,  1.8537,  1.2587,  0.8691, -0.9609],\n",
            "        [ 0.3896,  0.3781, -0.1372,  1.1605,  2.3078]])\n",
            "Y tensor([[[-1.0146e-01,  4.9010e-01, -9.8783e-01, -1.9807e+00, -7.9419e-01],\n",
            "         [ 1.0539e+00, -9.9347e-01,  1.7730e-01,  2.7387e+00,  4.7268e-01],\n",
            "         [ 7.6978e-01, -1.3640e+00, -5.7729e-01,  9.3924e-01,  3.2179e-01]],\n",
            "\n",
            "        [[-8.7340e-01,  2.3030e+00, -1.4181e+00, -4.2512e+00,  8.4351e-03],\n",
            "         [-2.5732e-01, -2.1549e-01, -2.0345e+00, -3.7515e+00, -1.8837e-01],\n",
            "         [-4.6905e-01,  2.2300e+00,  3.4963e-01, -1.0094e+00, -1.5989e+00]],\n",
            "\n",
            "        [[ 1.4572e+00, -1.2380e+00, -9.0709e-01,  2.5148e+00,  2.8486e+00],\n",
            "         [-6.0549e-01, -2.3301e+00, -1.6967e+00, -3.6588e+00,  5.4398e-01],\n",
            "         [-1.1281e+00,  4.1742e-01, -5.5216e-02, -2.4910e+00,  2.7036e-01]],\n",
            "\n",
            "        [[ 4.1976e-01,  6.3160e-01, -8.4166e-01, -1.3962e-01,  1.2605e+00],\n",
            "         [ 1.2382e-01, -4.6840e-01, -2.1689e-01,  5.3223e-01,  2.3626e+00],\n",
            "         [ 7.2126e-01, -5.0938e+00, -4.2363e+00, -4.4080e+00,  1.1228e+00]],\n",
            "\n",
            "        [[-1.7487e-01,  1.7784e+00,  7.7467e-01,  3.0890e-01, -1.6418e+00],\n",
            "         [-1.1719e+00,  1.0505e+00, -1.1181e+00, -5.1781e+00, -3.4469e+00],\n",
            "         [-3.2814e-01, -2.7842e+00, -8.3837e-01, -2.1793e+00, -1.4749e+00]],\n",
            "\n",
            "        [[-5.4696e-01,  2.3622e+00,  1.2238e+00,  1.4699e+00,  3.7842e+00],\n",
            "         [-4.0124e-01,  8.6407e-01, -4.8522e-01, -1.0655e+00,  2.5582e+00],\n",
            "         [ 9.8386e-01, -1.0312e+00,  1.1871e+00,  3.8418e+00, -8.4777e-01]],\n",
            "\n",
            "        [[-4.5423e-01,  8.5072e-01, -2.2985e+00, -3.6959e+00,  3.8163e+00],\n",
            "         [ 6.6679e-02,  1.8307e+00,  1.4606e+00,  1.6493e+00, -2.6609e+00],\n",
            "         [ 4.6593e-01,  2.2084e-01, -3.3365e-01,  9.3462e-01,  1.9086e+00]],\n",
            "\n",
            "        [[ 4.6352e-01,  6.5622e-03,  2.2798e-01,  1.8825e+00,  2.1782e+00],\n",
            "         [ 2.7348e-01,  4.1284e-01,  4.6243e-01,  1.2472e+00, -1.4778e-01],\n",
            "         [-6.3853e-01, -2.7674e+00, -6.6528e-01, -2.4032e+00, -7.2864e-01]],\n",
            "\n",
            "        [[-1.6490e+00, -1.5057e+00, -3.2523e+00, -8.8687e+00, -1.4292e+00],\n",
            "         [ 6.5099e-01,  9.4183e-01,  1.0542e+00,  2.0429e+00, -3.9044e+00],\n",
            "         [ 1.0637e+00, -4.6052e+00, -5.1486e-02,  2.0147e+00, -2.1670e+00]],\n",
            "\n",
            "        [[ 3.1471e-01, -3.0574e+00,  1.2040e+00,  3.5368e+00,  3.2119e+00],\n",
            "         [ 2.1463e-01,  2.0301e+00,  2.2546e+00,  4.2169e+00,  1.5966e+00],\n",
            "         [ 1.4457e+00, -2.2162e+00, -4.7752e-01,  2.7582e+00,  9.1315e-01]]])\n"
          ]
        }
      ]
    },
    {
      "cell_type": "markdown",
      "source": [
        "## Indexing"
      ],
      "metadata": {
        "id": "BrHszR9zLHUv"
      }
    },
    {
      "cell_type": "markdown",
      "source": [
        "We often have the situation where we need to select a part of a tensor. Indexing works just like in numpy, so let's try it:"
      ],
      "metadata": {
        "id": "ui2B_s0dLRmb"
      }
    },
    {
      "cell_type": "code",
      "source": [
        "x = torch.arange(12).view(3, 4)\n",
        "print(\"X: \", x)\n",
        "\n",
        "print(\"Second column\")\n",
        "print(x[:, 1])\n",
        "\n",
        "print(\"First row\")\n",
        "print(x[0])\n",
        "\n",
        "print(\"First two rows, last column\")\n",
        "print(x[:2, -1])\n",
        "\n",
        "print(\"Middle two rows\")\n",
        "print(x[1:3, :])"
      ],
      "metadata": {
        "id": "u0yifWs_Kd-T",
        "colab": {
          "base_uri": "https://localhost:8080/"
        },
        "outputId": "d62b4c20-53f5-4197-8190-90c003d8b4f4"
      },
      "execution_count": null,
      "outputs": [
        {
          "output_type": "stream",
          "name": "stdout",
          "text": [
            "X:  tensor([[ 0,  1,  2,  3],\n",
            "        [ 4,  5,  6,  7],\n",
            "        [ 8,  9, 10, 11]])\n",
            "Second column\n",
            "tensor([1, 5, 9])\n",
            "First row\n",
            "tensor([0, 1, 2, 3])\n",
            "First two rows, last column\n",
            "tensor([3, 7])\n",
            "Middle two rows\n",
            "tensor([[ 4,  5,  6,  7],\n",
            "        [ 8,  9, 10, 11]])\n"
          ]
        }
      ]
    },
    {
      "cell_type": "markdown",
      "source": [
        "# PyTorch Distributions\n",
        "\n",
        "Source: https://pytorch.org/docs/stable/distributions.html\n",
        "\n",
        "The `distributions` package contains parameterizable probability distributions and sampling functions. This allows the construction of stochastic computation graphs and stochastic gradient estimators for optimization. This package generally follows the design of the [TensorFlow Distributions](https://arxiv.org/abs/1711.10604) package.\n",
        "\n",
        "During this course, we focus on probabilistic modelling and will be working with various probabilistic distributions. Thus we need to be able to:\n",
        "\n",
        "- efficiently sample from the distribution,\n",
        "\n",
        "- efficiently compute pointwise probability density,\n",
        "\n",
        "- differentiate probability density funtion with respect to the parameters.\n",
        "\n",
        "Those conditions are generally met by the distributions available in PyTorch Distributions.\n"
      ],
      "metadata": {
        "id": "TK20-MQsL2z9"
      }
    },
    {
      "cell_type": "markdown",
      "source": [
        "## Exercise 1: Sampling from Multivariate Normal distribution\n",
        "\n",
        "1. Import `torch`, print the version you are using.\n",
        "\n",
        "2. Set a seed, you can use `set_seed` function below.\n",
        "\n",
        "3. Define a multivariate normal distribution with $\\mu = [1, 2]$ and $\\Sigma = \\begin{bmatrix} 1 & 0 \\\\ 0 & 2\\end{bmatrix}$. Use `torch.distributions.MultivariateNormal`.\n",
        "\n",
        "4. Sample $n = 100$ i.i.d. observations from the defined distribution using `sample` method (Hint: `sample_shape = torch.Size([n])`).\n",
        "\n",
        "5. Compute the probability and log-probability of the sampled batch obtained in 4 under the distribution from 3 (see: `log_prob` method).\n",
        "\n",
        "6. Explain **why do we often work with log-probs not probs?**\n",
        "\n",
        "7. How is log-probability of density function  connected to the likelihood? What is the difference?"
      ],
      "metadata": {
        "id": "looKKJkORU4P"
      }
    },
    {
      "cell_type": "code",
      "source": [
        "def set_seed(seed):\n",
        "    #####\n",
        "    # TODO\n",
        "    #####\n",
        "    torch.manual_seed(seed)\n",
        "    np.random.seed(seed)\n",
        "    random.seed(seed)\n",
        "    print(f\"Seed set to {seed}\")"
      ],
      "metadata": {
        "id": "bLFtXz1bLbLF"
      },
      "execution_count": null,
      "outputs": []
    },
    {
      "cell_type": "code",
      "source": [
        "### PUT YOUR CODE HERE\n",
        "import torch\n",
        "print(torch.__version__)\n",
        "\n",
        "set_seed(42)\n",
        "n = 100\n",
        "distribution = torch.distributions.MultivariateNormal(loc = torch.Tensor([1,2]), covariance_matrix = torch.Tensor([[1,0],[0,2]]))\n",
        "sample = distribution.sample(sample_shape = torch.Size([n]))\n",
        "\n",
        "log_prob = distribution.log_prob(sample)\n",
        "print('log_probability', log_prob)\n",
        "prob = np.exp(log_prob)\n",
        "print('probability', prob)\n",
        "\n",
        "joint_log_prob = 0\n",
        "for i in range(n):\n",
        "  joint_log_prob += log_prob[i]\n",
        "print(joint_log_prob)\n",
        "\n",
        "joint_prob = 1\n",
        "for i in range(n):\n",
        "  joint_prob = joint_prob*prob[i]\n",
        "print(joint_prob)\n",
        "\n",
        "\n",
        "#ładniej\n",
        "print(log_prob.sum())\n",
        "print(log_prob.sum().exp())\n",
        "\n"
      ],
      "metadata": {
        "id": "Cw4_b9GcRUh5",
        "colab": {
          "base_uri": "https://localhost:8080/"
        },
        "outputId": "a53e5973-604c-488a-e0e3-e7e9340453e5"
      },
      "execution_count": null,
      "outputs": [
        {
          "output_type": "stream",
          "name": "stdout",
          "text": [
            "2.8.0+cu126\n",
            "Seed set to 42\n",
            "log_probability tensor([-5.1470, -4.8067, -3.1766, -3.4729, -3.8264, -3.2465, -2.6058, -2.7707,\n",
            "        -3.5458, -2.4048, -3.0532, -3.9173, -3.8429, -3.2615, -2.2121, -2.5858,\n",
            "        -3.5226, -3.6841, -2.3254, -2.5312, -3.8931, -2.7521, -5.2493, -3.0657,\n",
            "        -2.8186, -2.3257, -3.0132, -2.7866, -3.1697, -2.4147, -3.8905, -3.8431,\n",
            "        -3.5954, -4.7812, -2.2640, -3.5572, -2.3365, -2.2769, -2.5557, -4.9004,\n",
            "        -2.2419, -3.2545, -2.4658, -2.8370, -2.5771, -2.9175, -4.0102, -3.1921,\n",
            "        -5.4524, -2.4926, -2.5598, -2.8549, -2.4849, -2.2823, -3.0300, -2.2305,\n",
            "        -3.2512, -2.4777, -2.4523, -2.3995, -2.2135, -2.4853, -2.8417, -2.5283,\n",
            "        -4.5611, -3.8544, -3.5310, -2.5647, -2.8361, -4.2431, -2.7885, -2.6230,\n",
            "        -3.1168, -4.5475, -2.2429, -2.4584, -2.7134, -3.5806, -5.3471, -3.2290,\n",
            "        -4.0166, -2.2446, -2.4927, -2.7981, -4.3831, -3.0164, -3.6671, -4.5386,\n",
            "        -2.1924, -2.5305, -3.8843, -2.9662, -2.2874, -2.6473, -2.7688, -2.4044,\n",
            "        -2.5075, -5.4474, -2.4660, -2.2339])\n",
            "probability tensor([0.0058, 0.0082, 0.0417, 0.0310, 0.0218, 0.0389, 0.0738, 0.0626, 0.0288,\n",
            "        0.0903, 0.0472, 0.0199, 0.0214, 0.0383, 0.1095, 0.0753, 0.0295, 0.0251,\n",
            "        0.0977, 0.0796, 0.0204, 0.0638, 0.0053, 0.0466, 0.0597, 0.0977, 0.0491,\n",
            "        0.0616, 0.0420, 0.0894, 0.0204, 0.0214, 0.0275, 0.0084, 0.1039, 0.0285,\n",
            "        0.0967, 0.1026, 0.0776, 0.0074, 0.1063, 0.0386, 0.0849, 0.0586, 0.0760,\n",
            "        0.0541, 0.0181, 0.0411, 0.0043, 0.0827, 0.0773, 0.0576, 0.0833, 0.1021,\n",
            "        0.0483, 0.1075, 0.0387, 0.0839, 0.0861, 0.0908, 0.1093, 0.0833, 0.0583,\n",
            "        0.0798, 0.0105, 0.0212, 0.0293, 0.0769, 0.0587, 0.0144, 0.0615, 0.0726,\n",
            "        0.0443, 0.0106, 0.1062, 0.0856, 0.0663, 0.0279, 0.0048, 0.0396, 0.0180,\n",
            "        0.1060, 0.0827, 0.0609, 0.0125, 0.0490, 0.0255, 0.0107, 0.1117, 0.0796,\n",
            "        0.0206, 0.0515, 0.1015, 0.0708, 0.0627, 0.0903, 0.0815, 0.0043, 0.0849,\n",
            "        0.1071])\n",
            "tensor(-314.6927)\n",
            "tensor(0.)\n",
            "tensor(-314.6927)\n",
            "tensor(0.)\n"
          ]
        },
        {
          "output_type": "stream",
          "name": "stderr",
          "text": [
            "/tmp/ipython-input-2424929368.py:12: DeprecationWarning: __array_wrap__ must accept context and return_scalar arguments (positionally) in the future. (Deprecated NumPy 2.0)\n",
            "  prob = np.exp(log_prob)\n"
          ]
        }
      ]
    },
    {
      "cell_type": "markdown",
      "source": [
        "Shapes of distributions may be confusing. A perfect guide to make your life easier: https://bochang.me/blog/posts/pytorch-distributions/\n",
        "\n",
        "Additionally: https://stats.stackexchange.com/questions/2641/what-is-the-difference-between-likelihood-and-probability\n"
      ],
      "metadata": {
        "id": "i0zDmBj8RnBE"
      }
    }
  ]
}
